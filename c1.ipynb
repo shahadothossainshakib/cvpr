{
  "cells": [
    {
      "cell_type": "markdown",
      "source": [],
      "metadata": {
        "id": "0AYpmK69CsVV"
      }
    },
    {
      "cell_type": "code",
      "source": [
        "import tensorflow as tf\n",
        "from tensorflow.keras.datasets import mnist\n",
        "\n",
        "(x_train, y_train), (x_test, y_test) = mnist.load_data()"
      ],
      "metadata": {
        "id": "1M4PbG_YCw8t",
        "outputId": "847e7f50-6a48-459e-b76c-c7dc5501c455",
        "colab": {
          "base_uri": "https://localhost:8080/"
        }
      },
      "execution_count": 1,
      "outputs": [
        {
          "output_type": "stream",
          "name": "stdout",
          "text": [
            "Downloading data from https://storage.googleapis.com/tensorflow/tf-keras-datasets/mnist.npz\n",
            "11490434/11490434 [==============================] - 0s 0us/step\n"
          ]
        }
      ]
    },
    {
      "cell_type": "code",
      "source": [
        "x_train = x_train.astype('float32') / 255\n",
        "x_test = x_test.astype('float32') / 255\n",
        "\n",
        "x_train = tf.expand_dims(x_train, axis=-1)\n",
        "x_test = tf.expand_dims(x_test, axis=-1)\n",
        "\n",
        "input_shape = x_train.shape[1:]\n",
        "num_classes = 10\n"
      ],
      "metadata": {
        "id": "JhdWrIZcDMBB"
      },
      "execution_count": 2,
      "outputs": []
    },
    {
      "cell_type": "code",
      "source": [
        "model = tf.keras.Sequential([\n",
        "    tf.keras.layers.Conv2D(32, (3,3), activation='relu', input_shape=input_shape),\n",
        "    tf.keras.layers.MaxPooling2D((2,2)),\n",
        "    tf.keras.layers.Conv2D(64, (3,3), activation='relu'),\n",
        "    tf.keras.layers.MaxPooling2D((2,2)),\n",
        "    tf.keras.layers.Flatten(),\n",
        "    tf.keras.layers.Dense(128, activation='relu'),\n",
        "    tf.keras.layers.Dense(num_classes, activation='softmax')\n",
        "])\n"
      ],
      "metadata": {
        "id": "7Ku3DP_RDUsb"
      },
      "execution_count": 3,
      "outputs": []
    },
    {
      "cell_type": "code",
      "source": [
        "optimizers = [\n",
        "    tf.keras.optimizers.SGD(lr=0.01),\n",
        "    tf.keras.optimizers.Adam(lr=0.001),\n",
        "    tf.keras.optimizers.RMSprop(lr=0.001)\n",
        "]\n",
        "\n",
        "for optimizer in optimizers:\n",
        "    model.compile(optimizer=optimizer, loss='sparse_categorical_crossentropy', metrics=['accuracy'])\n",
        "    history = model.fit(x_train, y_train, epochs=10, batch_size=32, validation_data=(x_test, y_test))\n",
        "    test_loss, test_acc = model.evaluate(x_test, y_test)\n",
        "    print(f'Optimizer: {optimizer.__class__.__name__}, Test accuracy: {test_acc}')\n"
      ],
      "metadata": {
        "id": "FJEEcHz2DaEm",
        "outputId": "63916c30-2505-4190-93ab-a73c5ec24843",
        "colab": {
          "base_uri": "https://localhost:8080/"
        }
      },
      "execution_count": 4,
      "outputs": [
        {
          "output_type": "stream",
          "name": "stdout",
          "text": [
            "1875/1875 [==============================] - 63s 33ms/step - loss: 0.5760 - accuracy: 0.8293 - val_loss: 0.1565 - val_accuracy: 0.9538\n",
            "Epoch 2/10\n",
            "1875/1875 [==============================] - 61s 32ms/step - loss: 0.1404 - accuracy: 0.9575 - val_loss: 0.0949 - val_accuracy: 0.9718\n",
            "Epoch 3/10\n",
            "1875/1875 [==============================] - 61s 32ms/step - loss: 0.0971 - accuracy: 0.9703 - val_loss: 0.0791 - val_accuracy: 0.9759\n",
            "Epoch 4/10\n",
            "1875/1875 [==============================] - 62s 33ms/step - loss: 0.0778 - accuracy: 0.9761 - val_loss: 0.0591 - val_accuracy: 0.9817\n",
            "Epoch 5/10\n",
            "1875/1875 [==============================] - 62s 33ms/step - loss: 0.0661 - accuracy: 0.9797 - val_loss: 0.0567 - val_accuracy: 0.9816\n",
            "Epoch 6/10\n",
            "1875/1875 [==============================] - 62s 33ms/step - loss: 0.0575 - accuracy: 0.9820 - val_loss: 0.0591 - val_accuracy: 0.9812\n",
            "Epoch 7/10\n",
            "1875/1875 [==============================] - 62s 33ms/step - loss: 0.0515 - accuracy: 0.9845 - val_loss: 0.0481 - val_accuracy: 0.9835\n",
            "Epoch 8/10\n",
            "1875/1875 [==============================] - 62s 33ms/step - loss: 0.0459 - accuracy: 0.9860 - val_loss: 0.0456 - val_accuracy: 0.9857\n",
            "Epoch 9/10\n",
            "1875/1875 [==============================] - 59s 32ms/step - loss: 0.0421 - accuracy: 0.9868 - val_loss: 0.0428 - val_accuracy: 0.9850\n",
            "Epoch 10/10\n",
            "1875/1875 [==============================] - 60s 32ms/step - loss: 0.0385 - accuracy: 0.9880 - val_loss: 0.0437 - val_accuracy: 0.9851\n",
            "313/313 [==============================] - 3s 9ms/step - loss: 0.0437 - accuracy: 0.9851\n",
            "Optimizer: SGD, Test accuracy: 0.9850999712944031\n",
            "Epoch 1/10\n",
            "1875/1875 [==============================] - 63s 33ms/step - loss: 0.0722 - accuracy: 0.9780 - val_loss: 0.0421 - val_accuracy: 0.9860\n",
            "Epoch 2/10\n",
            "1875/1875 [==============================] - 61s 33ms/step - loss: 0.0414 - accuracy: 0.9870 - val_loss: 0.0291 - val_accuracy: 0.9913\n",
            "Epoch 3/10\n",
            "1875/1875 [==============================] - 61s 32ms/step - loss: 0.0277 - accuracy: 0.9910 - val_loss: 0.0274 - val_accuracy: 0.9902\n",
            "Epoch 4/10\n",
            "1875/1875 [==============================] - 60s 32ms/step - loss: 0.0200 - accuracy: 0.9935 - val_loss: 0.0380 - val_accuracy: 0.9892\n",
            "Epoch 5/10\n",
            "1875/1875 [==============================] - 61s 32ms/step - loss: 0.0161 - accuracy: 0.9947 - val_loss: 0.0311 - val_accuracy: 0.9913\n",
            "Epoch 6/10\n",
            "1875/1875 [==============================] - 61s 32ms/step - loss: 0.0122 - accuracy: 0.9961 - val_loss: 0.0482 - val_accuracy: 0.9885\n",
            "Epoch 7/10\n",
            "1875/1875 [==============================] - 59s 32ms/step - loss: 0.0103 - accuracy: 0.9966 - val_loss: 0.0511 - val_accuracy: 0.9884\n",
            "Epoch 8/10\n",
            "1875/1875 [==============================] - 61s 32ms/step - loss: 0.0095 - accuracy: 0.9970 - val_loss: 0.0416 - val_accuracy: 0.9899\n",
            "Epoch 9/10\n",
            "1875/1875 [==============================] - 61s 32ms/step - loss: 0.0068 - accuracy: 0.9979 - val_loss: 0.0482 - val_accuracy: 0.9890\n",
            "Epoch 10/10\n",
            "1875/1875 [==============================] - 60s 32ms/step - loss: 0.0059 - accuracy: 0.9980 - val_loss: 0.0487 - val_accuracy: 0.9894\n",
            "313/313 [==============================] - 4s 12ms/step - loss: 0.0487 - accuracy: 0.9894\n",
            "Optimizer: Adam, Test accuracy: 0.9894000291824341\n",
            "Epoch 1/10\n",
            "1875/1875 [==============================] - 63s 33ms/step - loss: 0.0015 - accuracy: 0.9996 - val_loss: 0.0425 - val_accuracy: 0.9922\n",
            "Epoch 2/10\n",
            "1875/1875 [==============================] - 59s 32ms/step - loss: 1.8583e-04 - accuracy: 0.9999 - val_loss: 0.0467 - val_accuracy: 0.9920\n",
            "Epoch 3/10\n",
            "1875/1875 [==============================] - 61s 32ms/step - loss: 2.0010e-05 - accuracy: 1.0000 - val_loss: 0.0474 - val_accuracy: 0.9923\n",
            "Epoch 4/10\n",
            "1875/1875 [==============================] - 60s 32ms/step - loss: 6.2377e-06 - accuracy: 1.0000 - val_loss: 0.0483 - val_accuracy: 0.9925\n",
            "Epoch 5/10\n",
            "1875/1875 [==============================] - 59s 31ms/step - loss: 2.1607e-06 - accuracy: 1.0000 - val_loss: 0.0498 - val_accuracy: 0.9923\n",
            "Epoch 6/10\n",
            "1875/1875 [==============================] - 60s 32ms/step - loss: 1.5757e-06 - accuracy: 1.0000 - val_loss: 0.0499 - val_accuracy: 0.9923\n",
            "Epoch 7/10\n",
            "1875/1875 [==============================] - 60s 32ms/step - loss: 1.2477e-06 - accuracy: 1.0000 - val_loss: 0.0504 - val_accuracy: 0.9924\n",
            "Epoch 8/10\n",
            "1875/1875 [==============================] - 59s 32ms/step - loss: 1.0573e-06 - accuracy: 1.0000 - val_loss: 0.0506 - val_accuracy: 0.9926\n",
            "Epoch 9/10\n",
            "1875/1875 [==============================] - 60s 32ms/step - loss: 9.1275e-07 - accuracy: 1.0000 - val_loss: 0.0511 - val_accuracy: 0.9924\n",
            "Epoch 10/10\n",
            "1875/1875 [==============================] - 60s 32ms/step - loss: 8.1021e-07 - accuracy: 1.0000 - val_loss: 0.0514 - val_accuracy: 0.9927\n",
            "313/313 [==============================] - 3s 9ms/step - loss: 0.0514 - accuracy: 0.9927\n",
            "Optimizer: RMSprop, Test accuracy: 0.9926999807357788\n"
          ]
        }
      ]
    },
    {
      "cell_type": "code",
      "source": [
        "import matplotlib.pyplot as plt\n",
        " \n",
        "optimizers = ['SGD', 'Adam', 'RMSprop']\n",
        "accuracy = [0.9883, 0.992, 0.9897]\n",
        " \n",
        "plt.bar(optimizers, accuracy)\n",
        "plt.title('Test Accuracy by Optimizer')\n",
        "plt.xlabel('Optimizer')\n",
        "plt.ylabel('Test Accuracy')\n",
        "plt.ylim([0.98, 0.993])\n",
        "plt.show()\n"
      ],
      "metadata": {
        "id": "bfUkOu9aMHrR",
        "outputId": "d0eb7829-2217-4884-94c2-ea87548bff9e",
        "colab": {
          "base_uri": "https://localhost:8080/",
          "height": 295
        }
      },
      "execution_count": 8,
      "outputs": [
        {
          "output_type": "display_data",
          "data": {
            "text/plain": [
              "<Figure size 432x288 with 1 Axes>"
            ],
            "image/png": "[encoded data removed]"
          },
          "metadata": {
            "needs_background": "light"
          }
        }
      ]
    }
  ],
  "metadata": {
    "colab": {
      "name": "Welcome To Colaboratory",
      "toc_visible": true,
      "provenance": []
    },
    "kernelspec": {
      "display_name": "Python 3",
      "name": "python3"
    }
  },
  "nbformat": 4,
  "nbformat_minor": 0
}